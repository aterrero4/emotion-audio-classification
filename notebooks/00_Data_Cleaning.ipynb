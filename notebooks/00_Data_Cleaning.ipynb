{
 "cells": [
  {
   "cell_type": "markdown",
   "id": "e0a61d5f",
   "metadata": {},
   "source": [
    "# 00_Data_Cleaning.ipynb\n",
    "\n",
    "**Project context**  \n",
    "Prepare two CSVs for the exploration & modelling notebooks.\n",
    "\n",
    "---\n",
    "\n",
    "## Inputs\n",
    "| raw file | rows × cols | note |\n",
    "|----------|-------------|------|\n",
    "| `echonest.csv` | ~13 k × ~250 | multi-index header, many nulls |\n",
    "\n",
    "## Outputs\n",
    "| clean file | rows × cols | note |\n",
    "|------------|-------------|------|\n",
    "| `echonest_audio_features.csv` | 13 129 × **8** | neat global features |\n",
    "| `echonest_audio_temporal.csv` | 13 129 × **224** | beat₀ … beat₂₂₃ timbre PCA |\n",
    "\n",
    "## Road-map\n",
    "1. **Load** raw CSV & flatten header  \n",
    "2. **Clean** – drop sparse columns & rows with any NaNs  \n",
    "3. **Split** → rename columns → cast temporal to *float32*  \n",
    "4. **Save** neat CSVs (index=`track_id`)\n"
   ]
  },
  {
   "cell_type": "markdown",
   "id": "fed44d61",
   "metadata": {},
   "source": [
    "### 1 · Load raw EchoNest\n"
   ]
  },
  {
   "cell_type": "code",
   "execution_count": 27,
   "id": "e96e4eed",
   "metadata": {},
   "outputs": [
    {
     "name": "stdout",
     "output_type": "stream",
     "text": [
      "raw: (13129, 249)\n"
     ]
    }
   ],
   "source": [
    "# 1 · Load raw CSV & flatten header --------------------------------------\n",
    "import pandas as pd, numpy as np, os\n",
    "\n",
    "BASE = \"/Users/angel/emotion_audio_gan/data/fma/fma_metadata\"\n",
    "RAW  = os.path.join(BASE, \"echonest.csv\")\n",
    "\n",
    "df_raw = pd.read_csv(\n",
    "    RAW,\n",
    "    skiprows=[0],          # drop EchoNest license row\n",
    "    header=[0,1],          # two-level header\n",
    "    index_col=0            # track_id\n",
    ")\n",
    "\n",
    "# flatten multi-index → \"group_field\"\n",
    "df_raw.columns = ['_'.join(col).strip() for col in df_raw.columns.values]\n",
    "df_raw.index.name = \"track_id\"\n",
    "\n",
    "print(\"raw:\", df_raw.shape)\n",
    "# Interpretation – ~13 k rows, ~250 cols\n",
    "\n"
   ]
  },
  {
   "cell_type": "markdown",
   "id": "644781e1",
   "metadata": {},
   "source": [
    "### 2 · Clean: drop duplicates & heavy-null columns\n",
    "* Threshold > 3000 nulls (≈ 23 %) removes mostly social-metadata noise.*"
   ]
  },
  {
   "cell_type": "code",
   "execution_count": 28,
   "id": "370faf2e",
   "metadata": {},
   "outputs": [
    {
     "name": "stdout",
     "output_type": "stream",
     "text": [
      "after clean: (13129, 239) | dropped cols: 10\n"
     ]
    }
   ],
   "source": [
    "# 2 · Clean: drop sparse cols then rows with any NaN ----------------------\n",
    "THRESH = 3000   # >3000 nulls ≈ 23 % missing → unreliable\n",
    "\n",
    "sparse_cols = [c for c in df_raw.columns if df_raw[c].isna().sum() > THRESH]\n",
    "df = df_raw.drop(columns=sparse_cols)\n",
    "\n",
    "df = df.dropna()              # remove any row that still has NaN\n",
    "df = df.drop_duplicates()\n",
    "\n",
    "print(\"after clean:\", df.shape, \"| dropped cols:\", len(sparse_cols))\n",
    "# Interpretation – removed noisy metadata & null rows; data now fully dense\n"
   ]
  },
  {
   "cell_type": "markdown",
   "id": "850ea395",
   "metadata": {},
   "source": [
    "### 3 · Split → rename → cast\n"
   ]
  },
  {
   "cell_type": "code",
   "execution_count": 30,
   "id": "6f36d405",
   "metadata": {},
   "outputs": [],
   "source": [
    "# 3 · Split into GLOBAL 8 & TEMPORAL 224 ---------------------------------\n",
    "# 3a  Rename global cols to plain Spotify names\n",
    "global_map = {\n",
    "    \"audio_features_valence\":        \"valence\",\n",
    "    \"audio_features_energy\":         \"energy\",\n",
    "    \"audio_features_acousticness\":   \"acousticness\",\n",
    "    \"audio_features_danceability\":   \"danceability\",\n",
    "    \"audio_features_instrumentalness\":\"instrumentalness\",\n",
    "    \"audio_features_liveness\":       \"liveness\",\n",
    "    \"audio_features_speechiness\":    \"speechiness\",\n",
    "    \"audio_features_tempo\":          \"tempo\"\n",
    "}\n",
    "df = df.rename(columns=global_map)\n",
    "\n",
    "global_cols   = list(global_map.values())\n",
    "temporal_cols = sorted([c for c in df.columns if c.startswith(\"temporal_features\")])\n",
    "\n",
    "# 3b  Rename temporal → beat_0 … beat_223\n",
    "beat_names = {old: f\"beat_{i}\" for i,old in enumerate(temporal_cols)}\n",
    "df = df.rename(columns=beat_names)\n",
    "\n",
    "df_global   = df[global_cols].copy()\n",
    "df_temporal = df[list(beat_names.values())].astype(\"float32\")  # halve memory\n"
   ]
  },
  {
   "cell_type": "markdown",
   "id": "f3b07078",
   "metadata": {},
   "source": [
    "### 4 · Save neat CSVs (ndex = track_id)\n"
   ]
  },
  {
   "cell_type": "code",
   "execution_count": null,
   "id": "52ca29db",
   "metadata": {},
   "outputs": [
    {
     "name": "stdout",
     "output_type": "stream",
     "text": [
      "✓ Saved: echonest_audio_features.csv and echonest_audio_temporal.csv to /Users/angel/emotion_audio_gan/data/fma\n"
     ]
    }
   ],
   "source": [
    "# 4 · Save CSVs ------------------------------------------------------\n",
    "OUT_DIR = \"/Users/angel/emotion_audio_gan/data/fma\"\n",
    "os.makedirs(OUT_DIR, exist_ok=True)\n",
    "\n",
    "df_global.to_csv   (os.path.join(OUT_DIR, \"echonest_audio_features.csv\"),\n",
    "                    index_label=\"track_id\")\n",
    "\n",
    "df_temporal.to_csv (os.path.join(OUT_DIR, \"echonest_audio_temporal.csv\"),\n",
    "                    index_label=\"track_id\")\n",
    "\n",
    "print(\"✓ Saved:\", \"echonest_audio_features.csv\", \"and\",\n",
    "      \"echonest_audio_temporal.csv\", \"to\", OUT_DIR)\n",
    "# Interpretation – both CSVs share track_id index → easy downstream loading"
   ]
  },
  {
   "cell_type": "code",
   "execution_count": null,
   "id": "b8a44415",
   "metadata": {},
   "outputs": [],
   "source": []
  }
 ],
 "metadata": {
  "kernelspec": {
   "display_name": "Python (env311)",
   "language": "python",
   "name": "env311"
  },
  "language_info": {
   "codemirror_mode": {
    "name": "ipython",
    "version": 3
   },
   "file_extension": ".py",
   "mimetype": "text/x-python",
   "name": "python",
   "nbconvert_exporter": "python",
   "pygments_lexer": "ipython3",
   "version": "3.11.12"
  }
 },
 "nbformat": 4,
 "nbformat_minor": 5
}
